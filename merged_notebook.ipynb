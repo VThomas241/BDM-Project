{
 "cells": [
  {
   "cell_type": "code",
   "execution_count": 14,
   "metadata": {},
   "outputs": [],
   "source": [
    "import pandas as pd"
   ]
  },
  {
   "cell_type": "code",
   "execution_count": null,
   "metadata": {},
   "outputs": [],
   "source": [
    "def mergeSalesAndPurchase(salesDF:pd.DataFrame=None,purchaseDF:pd.DataFrame=None)-> pd.DataFrame:\n",
    "    \n",
    "    return\n",
    "\n",
    "def checkNullorInvalid(var,type):\n",
    "    if not var or type(var) != type : return True\n",
    "    return False\n",
    "\n",
    "def mergeDuplicates(df:pd.DataFrame=None,subset:str=None)->pd.DataFrame:\n",
    "    '''\n",
    "    Merges duplicate rows from a Dataframe.\n",
    "    df: Dataframe on which to perform the merge.\n",
    "    subset: The column name on which to perform the merge.\n",
    "    '''\n",
    "    if checkNullorInvalid(df,pd.DataFrame): raise TypeError('df variable supplied must be a Dataframe object.')\n",
    "    if checkNullorInvalid(subset,str): raise TypeError('subset variable supplied must be a string.')\n",
    "\n",
    "    if df.duplicated(subset=subset).sum() == 0: return df\n",
    "\n",
    "    # Parameter keep indicates which copy to not be marked as duplicate\n",
    "    duplicate_first_idx = df.duplicated(subset='Item',keep='last')\n",
    "    duplicate_last_idx = df.duplicated(subset='Item',keep='first')"
   ]
  },
  {
   "cell_type": "code",
   "execution_count": 15,
   "metadata": {},
   "outputs": [],
   "source": [
    "salesApril = pd.read_csv('./CSV Files/SALES APRIL 23.csv')\n",
    "purchaseApril = pd.read_csv('./CSV Files/PURCHASE APRIL 23.csv')\n",
    "\n",
    "# salesApril.drop_duplicates(inplace=True)\n",
    "# purchaseApril.drop_duplicates(inplace=True)"
   ]
  },
  {
   "cell_type": "code",
   "execution_count": 16,
   "metadata": {},
   "outputs": [
    {
     "data": {
      "text/plain": [
       "6"
      ]
     },
     "execution_count": 16,
     "metadata": {},
     "output_type": "execute_result"
    }
   ],
   "source": [
    "salesApril.duplicated(subset='Item').sum()"
   ]
  },
  {
   "cell_type": "code",
   "execution_count": 17,
   "metadata": {},
   "outputs": [],
   "source": [
    "duplicate_first_idx = salesApril.duplicated(subset='Item',keep='last')\n",
    "duplicate_last_idx = salesApril.duplicated(subset='Item',keep='first')"
   ]
  },
  {
   "cell_type": "code",
   "execution_count": 18,
   "metadata": {},
   "outputs": [
    {
     "data": {
      "text/plain": [
       "array([ 41, 167, 246, 297, 341, 577], dtype=int64)"
      ]
     },
     "execution_count": 18,
     "metadata": {},
     "output_type": "execute_result"
    }
   ],
   "source": [
    "salesApril[duplicate_first_idx].index.values"
   ]
  },
  {
   "cell_type": "code",
   "execution_count": 19,
   "metadata": {},
   "outputs": [
    {
     "data": {
      "text/plain": [
       "100.0"
      ]
     },
     "execution_count": 19,
     "metadata": {},
     "output_type": "execute_result"
    }
   ],
   "source": [
    "salesApril.at[41,'Amount']"
   ]
  },
  {
   "cell_type": "code",
   "execution_count": 20,
   "metadata": {},
   "outputs": [],
   "source": [
    "duplicate_last = salesApril[duplicate_last_idx].set_index(keys='Item')\n",
    "for idx in salesApril[duplicate_first_idx].index.values:\n",
    "    item_name = salesApril.at[idx,'Item']\n",
    "\n",
    "    salesApril.loc[idx,'Quantity'] += duplicate_last.loc[item_name,'Quantity']\n",
    "    salesApril.loc[idx,'Amount'] += duplicate_last.loc[item_name,'Amount']"
   ]
  },
  {
   "cell_type": "code",
   "execution_count": 21,
   "metadata": {},
   "outputs": [
    {
     "data": {
      "text/plain": [
       "0"
      ]
     },
     "execution_count": 21,
     "metadata": {},
     "output_type": "execute_result"
    }
   ],
   "source": [
    "salesApril.at[41,'Amount']\n",
    "salesApril.drop_duplicates(keep='first',subset='Item',inplace=True)\n",
    "salesApril.duplicated(subset='Item').sum()"
   ]
  },
  {
   "cell_type": "code",
   "execution_count": 22,
   "metadata": {},
   "outputs": [
    {
     "name": "stderr",
     "output_type": "stream",
     "text": [
      "C:\\Users\\vivek\\AppData\\Local\\Temp\\ipykernel_1860\\548403635.py:1: UserWarning: Boolean Series key will be reindexed to match DataFrame index.\n",
      "  salesApril[duplicate_last_idx]\n"
     ]
    },
    {
     "data": {
      "text/html": [
       "<div>\n",
       "<style scoped>\n",
       "    .dataframe tbody tr th:only-of-type {\n",
       "        vertical-align: middle;\n",
       "    }\n",
       "\n",
       "    .dataframe tbody tr th {\n",
       "        vertical-align: top;\n",
       "    }\n",
       "\n",
       "    .dataframe thead th {\n",
       "        text-align: right;\n",
       "    }\n",
       "</style>\n",
       "<table border=\"1\" class=\"dataframe\">\n",
       "  <thead>\n",
       "    <tr style=\"text-align: right;\">\n",
       "      <th></th>\n",
       "      <th>Sl</th>\n",
       "      <th>Item</th>\n",
       "      <th>Quantity</th>\n",
       "      <th>Amount</th>\n",
       "    </tr>\n",
       "  </thead>\n",
       "  <tbody>\n",
       "  </tbody>\n",
       "</table>\n",
       "</div>"
      ],
      "text/plain": [
       "Empty DataFrame\n",
       "Columns: [Sl, Item, Quantity, Amount]\n",
       "Index: []"
      ]
     },
     "execution_count": 22,
     "metadata": {},
     "output_type": "execute_result"
    }
   ],
   "source": [
    "salesApril[duplicate_last_idx]"
   ]
  },
  {
   "cell_type": "code",
   "execution_count": 23,
   "metadata": {},
   "outputs": [
    {
     "data": {
      "text/plain": [
       "(783, 4)"
      ]
     },
     "execution_count": 23,
     "metadata": {},
     "output_type": "execute_result"
    }
   ],
   "source": [
    "salesApril.shape"
   ]
  },
  {
   "cell_type": "code",
   "execution_count": 24,
   "metadata": {},
   "outputs": [
    {
     "data": {
      "text/html": [
       "<div>\n",
       "<style scoped>\n",
       "    .dataframe tbody tr th:only-of-type {\n",
       "        vertical-align: middle;\n",
       "    }\n",
       "\n",
       "    .dataframe tbody tr th {\n",
       "        vertical-align: top;\n",
       "    }\n",
       "\n",
       "    .dataframe thead th {\n",
       "        text-align: right;\n",
       "    }\n",
       "</style>\n",
       "<table border=\"1\" class=\"dataframe\">\n",
       "  <thead>\n",
       "    <tr style=\"text-align: right;\">\n",
       "      <th></th>\n",
       "      <th>Item</th>\n",
       "      <th>Quantity_Sales</th>\n",
       "      <th>Amount_Sales</th>\n",
       "      <th>Quantity_Purchases</th>\n",
       "      <th>Amount_Purchases</th>\n",
       "    </tr>\n",
       "  </thead>\n",
       "  <tbody>\n",
       "    <tr>\n",
       "      <th>0</th>\n",
       "      <td>916 COCONUT OIL 500ML</td>\n",
       "      <td>1.0</td>\n",
       "      <td>90.0</td>\n",
       "      <td>0</td>\n",
       "      <td>0</td>\n",
       "    </tr>\n",
       "    <tr>\n",
       "      <th>1</th>\n",
       "      <td>ACT SANDROP PB CRUNCHY 100G</td>\n",
       "      <td>3.0</td>\n",
       "      <td>150.0</td>\n",
       "      <td>0</td>\n",
       "      <td>0</td>\n",
       "    </tr>\n",
       "    <tr>\n",
       "      <th>2</th>\n",
       "      <td>ACT SUNDROP PEANUT BUTTER CREAME</td>\n",
       "      <td>1.0</td>\n",
       "      <td>250.0</td>\n",
       "      <td>1</td>\n",
       "      <td>220.15</td>\n",
       "    </tr>\n",
       "    <tr>\n",
       "      <th>3</th>\n",
       "      <td>ACT SUNDROP PEANUT BUTTER CREAM</td>\n",
       "      <td>1.0</td>\n",
       "      <td>175.0</td>\n",
       "      <td>1</td>\n",
       "      <td>160.53</td>\n",
       "    </tr>\n",
       "    <tr>\n",
       "      <th>4</th>\n",
       "      <td>ALPH LOLIPOP</td>\n",
       "      <td>47.0</td>\n",
       "      <td>245.0</td>\n",
       "      <td>0</td>\n",
       "      <td>0</td>\n",
       "    </tr>\n",
       "  </tbody>\n",
       "</table>\n",
       "</div>"
      ],
      "text/plain": [
       "                               Item  Quantity_Sales  Amount_Sales  \\\n",
       "0             916 COCONUT OIL 500ML             1.0          90.0   \n",
       "1       ACT SANDROP PB CRUNCHY 100G             3.0         150.0   \n",
       "2  ACT SUNDROP PEANUT BUTTER CREAME             1.0         250.0   \n",
       "3   ACT SUNDROP PEANUT BUTTER CREAM             1.0         175.0   \n",
       "4                      ALPH LOLIPOP            47.0         245.0   \n",
       "\n",
       "  Quantity_Purchases Amount_Purchases  \n",
       "0                  0                0  \n",
       "1                  0                0  \n",
       "2                  1           220.15  \n",
       "3                  1           160.53  \n",
       "4                  0                0  "
      ]
     },
     "execution_count": 24,
     "metadata": {},
     "output_type": "execute_result"
    }
   ],
   "source": [
    "merged = salesApril.merge(purchaseApril,on='Item',how='outer',suffixes=('_Sales','_Purchases'))\n",
    "merged.drop('Sl_Sales',inplace=True,axis=1)\n",
    "merged.drop('Sl_Purchases',inplace=True,axis=1)\n",
    "merged.fillna(0,inplace=True)\n",
    "merged.head()"
   ]
  },
  {
   "cell_type": "code",
   "execution_count": 25,
   "metadata": {},
   "outputs": [
    {
     "data": {
      "text/plain": [
       "(1066, 5)"
      ]
     },
     "execution_count": 25,
     "metadata": {},
     "output_type": "execute_result"
    }
   ],
   "source": [
    "merged.shape"
   ]
  },
  {
   "cell_type": "code",
   "execution_count": 26,
   "metadata": {},
   "outputs": [],
   "source": [
    "merged.to_csv('./test/AprilMerged.csv',index=False)"
   ]
  },
  {
   "cell_type": "code",
   "execution_count": 27,
   "metadata": {},
   "outputs": [],
   "source": [
    "merged_april = pd.read_csv('./test/AprilMerged.csv')"
   ]
  },
  {
   "cell_type": "code",
   "execution_count": 28,
   "metadata": {},
   "outputs": [
    {
     "data": {
      "text/html": [
       "<div>\n",
       "<style scoped>\n",
       "    .dataframe tbody tr th:only-of-type {\n",
       "        vertical-align: middle;\n",
       "    }\n",
       "\n",
       "    .dataframe tbody tr th {\n",
       "        vertical-align: top;\n",
       "    }\n",
       "\n",
       "    .dataframe thead th {\n",
       "        text-align: right;\n",
       "    }\n",
       "</style>\n",
       "<table border=\"1\" class=\"dataframe\">\n",
       "  <thead>\n",
       "    <tr style=\"text-align: right;\">\n",
       "      <th></th>\n",
       "      <th>Item</th>\n",
       "      <th>Quantity_Sales</th>\n",
       "      <th>Amount_Sales</th>\n",
       "      <th>Quantity_Purchases</th>\n",
       "      <th>Amount_Purchases</th>\n",
       "    </tr>\n",
       "  </thead>\n",
       "  <tbody>\n",
       "    <tr>\n",
       "      <th>0</th>\n",
       "      <td>916 COCONUT OIL 500ML</td>\n",
       "      <td>1.0</td>\n",
       "      <td>90.0</td>\n",
       "      <td>0</td>\n",
       "      <td>0</td>\n",
       "    </tr>\n",
       "    <tr>\n",
       "      <th>1</th>\n",
       "      <td>ACT SANDROP PB CRUNCHY 100G</td>\n",
       "      <td>3.0</td>\n",
       "      <td>150.0</td>\n",
       "      <td>0</td>\n",
       "      <td>0</td>\n",
       "    </tr>\n",
       "    <tr>\n",
       "      <th>2</th>\n",
       "      <td>ACT SUNDROP PEANUT BUTTER CREAME</td>\n",
       "      <td>1.0</td>\n",
       "      <td>250.0</td>\n",
       "      <td>1</td>\n",
       "      <td>220.15</td>\n",
       "    </tr>\n",
       "    <tr>\n",
       "      <th>3</th>\n",
       "      <td>ACT SUNDROP PEANUT BUTTER CREAM</td>\n",
       "      <td>1.0</td>\n",
       "      <td>175.0</td>\n",
       "      <td>1</td>\n",
       "      <td>160.53</td>\n",
       "    </tr>\n",
       "    <tr>\n",
       "      <th>4</th>\n",
       "      <td>ALPH LOLIPOP</td>\n",
       "      <td>47.0</td>\n",
       "      <td>245.0</td>\n",
       "      <td>0</td>\n",
       "      <td>0</td>\n",
       "    </tr>\n",
       "  </tbody>\n",
       "</table>\n",
       "</div>"
      ],
      "text/plain": [
       "                               Item  Quantity_Sales  Amount_Sales  \\\n",
       "0             916 COCONUT OIL 500ML             1.0          90.0   \n",
       "1       ACT SANDROP PB CRUNCHY 100G             3.0         150.0   \n",
       "2  ACT SUNDROP PEANUT BUTTER CREAME             1.0         250.0   \n",
       "3   ACT SUNDROP PEANUT BUTTER CREAM             1.0         175.0   \n",
       "4                      ALPH LOLIPOP            47.0         245.0   \n",
       "\n",
       "  Quantity_Purchases Amount_Purchases  \n",
       "0                  0                0  \n",
       "1                  0                0  \n",
       "2                  1           220.15  \n",
       "3                  1           160.53  \n",
       "4                  0                0  "
      ]
     },
     "execution_count": 28,
     "metadata": {},
     "output_type": "execute_result"
    }
   ],
   "source": [
    "merged_april.head()"
   ]
  },
  {
   "cell_type": "code",
   "execution_count": 31,
   "metadata": {},
   "outputs": [
    {
     "data": {
      "text/plain": [
       "(1066, 5)"
      ]
     },
     "execution_count": 31,
     "metadata": {},
     "output_type": "execute_result"
    }
   ],
   "source": [
    "merged_april.shape"
   ]
  },
  {
   "cell_type": "code",
   "execution_count": 32,
   "metadata": {},
   "outputs": [
    {
     "data": {
      "text/plain": [
       "Item                  0\n",
       "Quantity_Sales        0\n",
       "Amount_Sales          0\n",
       "Quantity_Purchases    0\n",
       "Amount_Purchases      0\n",
       "dtype: int64"
      ]
     },
     "execution_count": 32,
     "metadata": {},
     "output_type": "execute_result"
    }
   ],
   "source": [
    "merged_april.isna().sum()"
   ]
  }
 ],
 "metadata": {
  "kernelspec": {
   "display_name": ".venv",
   "language": "python",
   "name": "python3"
  },
  "language_info": {
   "codemirror_mode": {
    "name": "ipython",
    "version": 3
   },
   "file_extension": ".py",
   "mimetype": "text/x-python",
   "name": "python",
   "nbconvert_exporter": "python",
   "pygments_lexer": "ipython3",
   "version": "3.11.5"
  }
 },
 "nbformat": 4,
 "nbformat_minor": 2
}
