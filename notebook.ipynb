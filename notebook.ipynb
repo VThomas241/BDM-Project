{
 "cells": [
  {
   "cell_type": "markdown",
   "metadata": {},
   "source": [
    "# BDM Project"
   ]
  },
  {
   "cell_type": "markdown",
   "metadata": {},
   "source": [
    "## Imports and loading the datasets"
   ]
  },
  {
   "cell_type": "code",
   "execution_count": 1,
   "metadata": {},
   "outputs": [],
   "source": [
    "import pandas as pd"
   ]
  },
  {
   "cell_type": "code",
   "execution_count": 2,
   "metadata": {},
   "outputs": [],
   "source": [
    "# To complete later proper implementation\n",
    "class Dataset():\n",
    "    datasets:list[pd.DataFrame] = []\n",
    "    \n",
    "\n",
    "    def __init__(self,pathtocsv:str) -> pd.DataFrame:\n",
    "        self.name = pathtocsv.split('/')[-1]\n",
    "        self.df = pd.read_csv(pathtocsv)\n",
    "        self.datasets.append(self)\n",
    "    \n",
    "    def __str__(self) -> str:\n",
    "        return 'Dataset<{}>'.format(self.name)\n",
    "    \n",
    "    def __repr__(self) -> str:\n",
    "        return 'Dataset<{}>'.format(self.name)\n",
    "        \n"
   ]
  },
  {
   "cell_type": "code",
   "execution_count": 3,
   "metadata": {},
   "outputs": [],
   "source": [
    "\n",
    "salesApril = Dataset('./CSV Files/SALES APRIL 23.csv')\n",
    "salesMay = Dataset('./CSV Files/SALES MAY 23.csv')\n",
    "purchaseApril = Dataset('./CSV Files/PURCHASE APRIL 23.csv')\n",
    "purchaseMay = Dataset('./CSV Files/PURCHASE MAY 23.csv')"
   ]
  },
  {
   "cell_type": "code",
   "execution_count": 4,
   "metadata": {},
   "outputs": [
    {
     "data": {
      "text/plain": [
       "[Dataset<SALES APRIL 23.csv>,\n",
       " Dataset<SALES MAY 23.csv>,\n",
       " Dataset<PURCHASE APRIL 23.csv>,\n",
       " Dataset<PURCHASE MAY 23.csv>]"
      ]
     },
     "execution_count": 4,
     "metadata": {},
     "output_type": "execute_result"
    }
   ],
   "source": [
    "Dataset.datasets"
   ]
  },
  {
   "cell_type": "code",
   "execution_count": 5,
   "metadata": {},
   "outputs": [],
   "source": [
    "for idx,dataset in enumerate(Dataset.datasets):\n",
    "    dataset.df = dataset.df.dropna()"
   ]
  },
  {
   "cell_type": "code",
   "execution_count": 6,
   "metadata": {},
   "outputs": [
    {
     "data": {
      "text/html": [
       "<div>\n",
       "<style scoped>\n",
       "    .dataframe tbody tr th:only-of-type {\n",
       "        vertical-align: middle;\n",
       "    }\n",
       "\n",
       "    .dataframe tbody tr th {\n",
       "        vertical-align: top;\n",
       "    }\n",
       "\n",
       "    .dataframe thead th {\n",
       "        text-align: right;\n",
       "    }\n",
       "</style>\n",
       "<table border=\"1\" class=\"dataframe\">\n",
       "  <thead>\n",
       "    <tr style=\"text-align: right;\">\n",
       "      <th></th>\n",
       "      <th>Sl</th>\n",
       "      <th>Item</th>\n",
       "      <th>Quantity</th>\n",
       "      <th>Amount</th>\n",
       "    </tr>\n",
       "  </thead>\n",
       "  <tbody>\n",
       "    <tr>\n",
       "      <th>0</th>\n",
       "      <td>1</td>\n",
       "      <td>916 COCONUT OIL 500ML</td>\n",
       "      <td>1.0</td>\n",
       "      <td>90.0</td>\n",
       "    </tr>\n",
       "    <tr>\n",
       "      <th>1</th>\n",
       "      <td>2</td>\n",
       "      <td>ACT SANDROP PB CRUNCHY 100G</td>\n",
       "      <td>3.0</td>\n",
       "      <td>150.0</td>\n",
       "    </tr>\n",
       "    <tr>\n",
       "      <th>2</th>\n",
       "      <td>3</td>\n",
       "      <td>ACT SUNDROP PEANUT BUTTER CREAME</td>\n",
       "      <td>1.0</td>\n",
       "      <td>250.0</td>\n",
       "    </tr>\n",
       "    <tr>\n",
       "      <th>3</th>\n",
       "      <td>4</td>\n",
       "      <td>ACT SUNDROP PEANUT BUTTER CREAM</td>\n",
       "      <td>1.0</td>\n",
       "      <td>175.0</td>\n",
       "    </tr>\n",
       "    <tr>\n",
       "      <th>4</th>\n",
       "      <td>5</td>\n",
       "      <td>ALPH LOLIPOP</td>\n",
       "      <td>47.0</td>\n",
       "      <td>245.0</td>\n",
       "    </tr>\n",
       "  </tbody>\n",
       "</table>\n",
       "</div>"
      ],
      "text/plain": [
       "   Sl                              Item  Quantity  Amount\n",
       "0   1             916 COCONUT OIL 500ML       1.0    90.0\n",
       "1   2       ACT SANDROP PB CRUNCHY 100G       3.0   150.0\n",
       "2   3  ACT SUNDROP PEANUT BUTTER CREAME       1.0   250.0\n",
       "3   4   ACT SUNDROP PEANUT BUTTER CREAM       1.0   175.0\n",
       "4   5                      ALPH LOLIPOP      47.0   245.0"
      ]
     },
     "execution_count": 6,
     "metadata": {},
     "output_type": "execute_result"
    }
   ],
   "source": [
    "salesApril.df.head()"
   ]
  },
  {
   "cell_type": "code",
   "execution_count": 7,
   "metadata": {},
   "outputs": [
    {
     "data": {
      "text/plain": [
       "Sl                              1\n",
       "Item        916 COCONUT OIL 500ML\n",
       "Quantity                      1.0\n",
       "Amount                       90.0\n",
       "Name: 0, dtype: object"
      ]
     },
     "execution_count": 7,
     "metadata": {},
     "output_type": "execute_result"
    }
   ],
   "source": [
    "salesApril.df.iloc[0]"
   ]
  },
  {
   "cell_type": "code",
   "execution_count": 8,
   "metadata": {},
   "outputs": [
    {
     "data": {
      "text/plain": [
       "Sl          0\n",
       "Item        0\n",
       "Quantity    0\n",
       "Amount      0\n",
       "dtype: int64"
      ]
     },
     "execution_count": 8,
     "metadata": {},
     "output_type": "execute_result"
    }
   ],
   "source": [
    "salesApril.df.isna().sum()"
   ]
  },
  {
   "cell_type": "code",
   "execution_count": 9,
   "metadata": {},
   "outputs": [
    {
     "name": "stdout",
     "output_type": "stream",
     "text": [
      "<class 'pandas.core.frame.DataFrame'>\n",
      "RangeIndex: 789 entries, 0 to 788\n",
      "Data columns (total 4 columns):\n",
      " #   Column    Non-Null Count  Dtype  \n",
      "---  ------    --------------  -----  \n",
      " 0   Sl        789 non-null    int64  \n",
      " 1   Item      789 non-null    object \n",
      " 2   Quantity  789 non-null    float64\n",
      " 3   Amount    789 non-null    float64\n",
      "dtypes: float64(2), int64(1), object(1)\n",
      "memory usage: 24.8+ KB\n"
     ]
    }
   ],
   "source": [
    "salesApril.df.info()"
   ]
  },
  {
   "cell_type": "code",
   "execution_count": null,
   "metadata": {},
   "outputs": [],
   "source": [
    "from dataclasses import dataclass,field\n",
    "\n",
    "@dataclass\n",
    "class DistinctFoods:\n",
    "    '''\n",
    "    Dataclass used in finding distinct foods.\n",
    "    :param str name: Name of  \n",
    "    '''\n",
    "    name: str\n",
    "    foods: dict = field(init=False,default={})\n",
    "\n"
   ]
  },
  {
   "cell_type": "code",
   "execution_count": 23,
   "metadata": {},
   "outputs": [],
   "source": [
    "def findDistinctFood(dataset:Dataset) -> DistinctFoods:\n",
    "    '''\n",
    "    Find the distinct brands/food types from a dataframe by comparing\n",
    "    the first words of the names.\n",
    "\n",
    "    :param df: Dataframe containing the dataset.\n",
    "    '''\n",
    "    df = dataset.df\n",
    "    distinctFoods = DistinctFoods(dataset.name)\n",
    "    groupedItems = distinctFoods.foods\n",
    "\n",
    "    for idx in range(len(df)):\n",
    "        row = df.iloc[idx]\n",
    "        currentFirstWord = row['Item'].split()[0]\n",
    "        if currentFirstWord not in groupedItems.keys(): groupedItems[currentFirstWord] = []\n",
    "        groupedItems[currentFirstWord].append(idx)\n",
    "        \n",
    "    return distinctFoods\n",
    "\n"
   ]
  },
  {
   "cell_type": "code",
   "execution_count": 25,
   "metadata": {},
   "outputs": [],
   "source": [
    "datasetDistinctFoods = [ findDistinctFood(dataset) for dataset in Dataset.datasets ]"
   ]
  },
  {
   "cell_type": "code",
   "execution_count": 11,
   "metadata": {},
   "outputs": [],
   "source": [
    "def distinctFoodToCsv(foodDict:dict) -> None:\n",
    "    distinctFood = pd.DataFrame(foodDict['foods'].keys(),columns=['Distinct Brands/Food'])\n",
    "    distinctFood.to_csv('./salesAprilDistinct.csv',index=False)"
   ]
  },
  {
   "cell_type": "code",
   "execution_count": null,
   "metadata": {},
   "outputs": [],
   "source": []
  },
  {
   "cell_type": "code",
   "execution_count": null,
   "metadata": {},
   "outputs": [],
   "source": []
  }
 ],
 "metadata": {
  "kernelspec": {
   "display_name": ".venv",
   "language": "python",
   "name": "python3"
  },
  "language_info": {
   "codemirror_mode": {
    "name": "ipython",
    "version": 3
   },
   "file_extension": ".py",
   "mimetype": "text/x-python",
   "name": "python",
   "nbconvert_exporter": "python",
   "pygments_lexer": "ipython3",
   "version": "3.12.0"
  }
 },
 "nbformat": 4,
 "nbformat_minor": 2
}
