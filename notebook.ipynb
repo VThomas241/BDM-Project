{
 "cells": [
  {
   "cell_type": "markdown",
   "metadata": {},
   "source": [
    "# BDM Project"
   ]
  },
  {
   "cell_type": "markdown",
   "metadata": {},
   "source": [
    "## Imports and loading the datasets"
   ]
  },
  {
   "cell_type": "code",
   "execution_count": 50,
   "metadata": {},
   "outputs": [],
   "source": [
    "import pandas as pd\n",
    "from dataclasses import dataclass,field\n",
    "from typing import ClassVar"
   ]
  },
  {
   "cell_type": "code",
   "execution_count": 51,
   "metadata": {},
   "outputs": [],
   "source": [
    "# To complete later proper implementation\n",
    "\n",
    "@dataclass\n",
    "class Dataset():\n",
    "    '''\n",
    "    Dataclass used in finding distinct foods.\n",
    "    :param pathtocsv dataset: The path to csv file.  \n",
    "    '''\n",
    "\n",
    "    name: str = field(init=False)\n",
    "    df: pd.DataFrame = field(init=False)\n",
    "    pathtocsv: str\n",
    "    distinctFoods: dict = field(init=False)\n",
    "\n",
    "    def __init__(self,pathtocsv:str):\n",
    "        self.name = pathtocsv.split('/')[-1]\n",
    "        self.df = pd.read_csv(pathtocsv).dropna()\n",
    "        self.distinctFoods = dict()\n",
    "        DatasetBase.datasets.append(self)\n",
    "\n",
    "        for idx in range(len(self.df)):\n",
    "            row = self.df.iloc[idx]\n",
    "            currentFirstName = row['Item'].split()[0]\n",
    "            if currentFirstName not in self.distinctFoods.keys(): \n",
    "                self.distinctFoods[currentFirstName] = []\n",
    "            self.distinctFoods[currentFirstName].append(idx)\n",
    "\n",
    "\n",
    "    def __str__(self) -> str:\n",
    "        return 'Dataset<{}>'.format(self.name)\n",
    "    \n",
    "    def __repr__(self) -> str:\n",
    "        return 'Dataset<{}>'.format(self.name)\n",
    "\n",
    "    def _repr_html_(self):\n",
    "        return self.df._repr_html_()\n",
    "\n",
    "    def head(self,n):\n",
    "        return self.df.head(n)\n",
    "\n",
    "  \n",
    "\n",
    "class DatasetBase:\n",
    "    datasets: list[Dataset] = []\n",
    "        "
   ]
  },
  {
   "cell_type": "code",
   "execution_count": 52,
   "metadata": {},
   "outputs": [],
   "source": [
    "\n",
    "salesApril = Dataset('./CSV Files/SALES APRIL 23.csv')\n",
    "salesMay = Dataset('./CSV Files/SALES MAY 23.csv')\n",
    "purchaseApril = Dataset('./CSV Files/PURCHASE APRIL 23.csv')\n",
    "purchaseMay = Dataset('./CSV Files/PURCHASE MAY 23.csv')"
   ]
  },
  {
   "cell_type": "code",
   "execution_count": 53,
   "metadata": {},
   "outputs": [
    {
     "data": {
      "text/plain": [
       "[Dataset<SALES APRIL 23.csv>,\n",
       " Dataset<SALES MAY 23.csv>,\n",
       " Dataset<PURCHASE APRIL 23.csv>,\n",
       " Dataset<PURCHASE MAY 23.csv>]"
      ]
     },
     "execution_count": 53,
     "metadata": {},
     "output_type": "execute_result"
    }
   ],
   "source": [
    "DatasetBase.datasets"
   ]
  },
  {
   "cell_type": "code",
   "execution_count": 54,
   "metadata": {},
   "outputs": [
    {
     "data": {
      "text/html": [
       "<div>\n",
       "<style scoped>\n",
       "    .dataframe tbody tr th:only-of-type {\n",
       "        vertical-align: middle;\n",
       "    }\n",
       "\n",
       "    .dataframe tbody tr th {\n",
       "        vertical-align: top;\n",
       "    }\n",
       "\n",
       "    .dataframe thead th {\n",
       "        text-align: right;\n",
       "    }\n",
       "</style>\n",
       "<table border=\"1\" class=\"dataframe\">\n",
       "  <thead>\n",
       "    <tr style=\"text-align: right;\">\n",
       "      <th></th>\n",
       "      <th>Sl</th>\n",
       "      <th>Item</th>\n",
       "      <th>Quantity</th>\n",
       "      <th>Amount</th>\n",
       "    </tr>\n",
       "  </thead>\n",
       "  <tbody>\n",
       "    <tr>\n",
       "      <th>1</th>\n",
       "      <td>2</td>\n",
       "      <td>ACT SANDROP PB CRUNCHY 100G</td>\n",
       "      <td>3.0</td>\n",
       "      <td>150.0</td>\n",
       "    </tr>\n",
       "    <tr>\n",
       "      <th>2</th>\n",
       "      <td>3</td>\n",
       "      <td>ACT SUNDROP PEANUT BUTTER CREAME</td>\n",
       "      <td>1.0</td>\n",
       "      <td>250.0</td>\n",
       "    </tr>\n",
       "    <tr>\n",
       "      <th>3</th>\n",
       "      <td>4</td>\n",
       "      <td>ACT SUNDROP PEANUT BUTTER CREAM</td>\n",
       "      <td>1.0</td>\n",
       "      <td>175.0</td>\n",
       "    </tr>\n",
       "    <tr>\n",
       "      <th>336</th>\n",
       "      <td>337</td>\n",
       "      <td>ACT II GOLDEN SIZZLE 30G</td>\n",
       "      <td>3.0</td>\n",
       "      <td>30.0</td>\n",
       "    </tr>\n",
       "    <tr>\n",
       "      <th>552</th>\n",
       "      <td>553</td>\n",
       "      <td>ACT TOMATO CHILLI</td>\n",
       "      <td>1.0</td>\n",
       "      <td>25.0</td>\n",
       "    </tr>\n",
       "    <tr>\n",
       "      <th>553</th>\n",
       "      <td>554</td>\n",
       "      <td>ACT BUTTER</td>\n",
       "      <td>3.0</td>\n",
       "      <td>75.0</td>\n",
       "    </tr>\n",
       "  </tbody>\n",
       "</table>\n",
       "</div>"
      ],
      "text/plain": [
       "      Sl                              Item  Quantity  Amount\n",
       "1      2       ACT SANDROP PB CRUNCHY 100G       3.0   150.0\n",
       "2      3  ACT SUNDROP PEANUT BUTTER CREAME       1.0   250.0\n",
       "3      4   ACT SUNDROP PEANUT BUTTER CREAM       1.0   175.0\n",
       "336  337          ACT II GOLDEN SIZZLE 30G       3.0    30.0\n",
       "552  553                 ACT TOMATO CHILLI       1.0    25.0\n",
       "553  554                        ACT BUTTER       3.0    75.0"
      ]
     },
     "execution_count": 54,
     "metadata": {},
     "output_type": "execute_result"
    }
   ],
   "source": [
    "test = DatasetBase.datasets[0].distinctFoods['ACT']\n",
    "DatasetBase.datasets[0].df.iloc[test]\n"
   ]
  },
  {
   "cell_type": "code",
   "execution_count": 55,
   "metadata": {},
   "outputs": [],
   "source": [
    "only_one_item = []\n",
    "ooiidx = []\n",
    "\n",
    "for key,value in salesApril.distinctFoods.items():\n",
    "    if len(value)==1:\n",
    "        only_one_item.append((key,value)) \n",
    "        ooiidx.append(value[0])"
   ]
  },
  {
   "cell_type": "code",
   "execution_count": 56,
   "metadata": {},
   "outputs": [],
   "source": [
    "salesApril.df.iloc[ooiidx].to_csv('salesAprilOnlyOne.csv',index=False)"
   ]
  },
  {
   "cell_type": "code",
   "execution_count": 57,
   "metadata": {},
   "outputs": [],
   "source": [
    "foo = pd.read_csv('./salesAprilOnlyOne_onlyselfproduced.csv')"
   ]
  },
  {
   "cell_type": "code",
   "execution_count": 58,
   "metadata": {},
   "outputs": [],
   "source": [
    "bar = tuple(foo['Item'].to_list())"
   ]
  },
  {
   "cell_type": "code",
   "execution_count": null,
   "metadata": {},
   "outputs": [],
   "source": [
    "set(bar).difference(set(salesMay.df['Item'].to_list()))"
   ]
  },
  {
   "cell_type": "code",
   "execution_count": 85,
   "metadata": {},
   "outputs": [],
   "source": [
    "def difference(list1,list2):\n",
    "    already_seen = []\n",
    "    not_in = []\n",
    "    l = []\n",
    "    if len(list2) > len(list1): list1,list2 = list2,list1\n",
    "    for item in list1:\n",
    "        if item not in list2: not_in.append(item)\n",
    "        elif item in list2 and item not in already_seen: already_seen.append(item)\n",
    "        else: l.append(item)\n",
    "    return dict(No=len(l),DuplicateItems=l,DifferentItems=not_in)\n",
    "    "
   ]
  },
  {
   "cell_type": "code",
   "execution_count": 83,
   "metadata": {},
   "outputs": [],
   "source": [
    "def test():\n",
    "    april = salesApril.df.copy(deep=True)\n",
    "    april = april.drop_duplicates(subset='Item')\n",
    "    april = april.set_index('Item')\n",
    "    return april.filter(items=bar,axis=0)"
   ]
  },
  {
   "cell_type": "code",
   "execution_count": 92,
   "metadata": {},
   "outputs": [
    {
     "data": {
      "text/plain": [
       "{'No': 0, 'DuplicateItems': [], 'DifferentItems': []}"
      ]
     },
     "execution_count": 92,
     "metadata": {},
     "output_type": "execute_result"
    }
   ],
   "source": [
    "def getDuplicateAndDifference(sales:Dataset):\n",
    "    sales = sales.df.copy(deep=True)\n",
    "    li = sales['Item']\n",
    "    se = set(li)\n",
    "    return difference(li,se)\n",
    "\n",
    "getDuplicateAndDifference(purchaseMay)\n",
    "# test()"
   ]
  }
 ],
 "metadata": {
  "kernelspec": {
   "display_name": ".venv",
   "language": "python",
   "name": "python3"
  },
  "language_info": {
   "codemirror_mode": {
    "name": "ipython",
    "version": 3
   },
   "file_extension": ".py",
   "mimetype": "text/x-python",
   "name": "python",
   "nbconvert_exporter": "python",
   "pygments_lexer": "ipython3",
   "version": "3.12.0"
  }
 },
 "nbformat": 4,
 "nbformat_minor": 2
}
