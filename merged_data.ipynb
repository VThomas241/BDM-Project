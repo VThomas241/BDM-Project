{
 "cells": [
  {
   "cell_type": "code",
   "execution_count": 1,
   "metadata": {},
   "outputs": [],
   "source": [
    "import pandas as pd"
   ]
  },
  {
   "cell_type": "code",
   "execution_count": 2,
   "metadata": {},
   "outputs": [],
   "source": [
    "def checkInvalidType(var,type:type) -> bool:\n",
    "    '''\n",
    "    Helper function to check if a variable if of the given type.\n",
    "    var: The variable to type check.\n",
    "    type: The type you want to type check with.\n",
    "    '''\n",
    "    if not isinstance(var,type): return True\n",
    "    return False\n",
    "\n",
    "def combineDuplicates(df:pd.DataFrame) -> pd.DataFrame:\n",
    "    '''\n",
    "    Merges duplicate rows from a Dataframe.\n",
    "    df: Dataframe on which to perform the merge.\n",
    "    subset: The column name on which to perform the merge.\n",
    "    '''\n",
    "\n",
    "    # Checking if input arguments are of correct type.\n",
    "    if checkInvalidType(df,pd.DataFrame): raise TypeError('df variable supplied must be a Dataframe object.')\n",
    "\n",
    "    df = df.copy(deep=True)\n",
    "    if df.duplicated(subset='Item').sum() == 0: return df\n",
    "\n",
    "    # Parameter keep indicates which copy to not be marked as duplicate.\n",
    "    duplicate_first__idx = df.duplicated(subset='Item',keep='last')\n",
    "\n",
    "    # Array of the indices of the last found duplicates indexed on their names \n",
    "    # for key value pair access of name and amount.\n",
    "    duplicate_last__idxed_on_name = df[df.duplicated(subset='Item',keep='first')].set_index(keys='Item')\n",
    "\n",
    "    # Adding the amounts from the last found duplicates to the first found duplicates.\n",
    "    for idx in df[duplicate_first__idx].index.values:\n",
    "        item_name = df.at[idx,'Item']\n",
    "        df.loc[idx,'Quantity'] += duplicate_last__idxed_on_name.loc[item_name,'Quantity']\n",
    "        df.loc[idx,'Amount'] += duplicate_last__idxed_on_name.loc[item_name,'Amount']\n",
    "        \n",
    "    df.drop_duplicates(keep='first',subset='Item',inplace=True)\n",
    "    return df"
   ]
  },
  {
   "cell_type": "code",
   "execution_count": 3,
   "metadata": {},
   "outputs": [],
   "source": [
    "def mergeSalesAndPurchase(salesDF:pd.DataFrame,purchaseDF:pd.DataFrame) -> pd.DataFrame:\n",
    "    '''\n",
    "    salesDF: Dataframe object containing the sales data.\n",
    "    purchaseDF: Dataframe object containing the purchase data.\n",
    "    '''\n",
    "    # Checking if input arguments are of correct type.\n",
    "    if checkInvalidType(salesDF,pd.DataFrame): \n",
    "        raise TypeError('salesDF variable supplied must be a Dataframe object.')\n",
    "    if checkInvalidType(purchaseDF,pd.DataFrame): \n",
    "        raise TypeError('purchaseDF variable supplied must be a Dataframe object.')\n",
    "    \n",
    "    salesDF, purchaseDF = combineDuplicates(salesDF), combineDuplicates(purchaseDF)\n",
    "\n",
    "    mergedDF = salesDF.merge(purchaseDF,on='Item',how='outer',suffixes=('_Sales','_Purchases'))\n",
    "    print(mergedDF.columns)\n",
    "    mergedDF.drop(['Sl_Sales','Sl_Purchases'],inplace=True,axis=1)\n",
    "    mergedDF.fillna(0,inplace=True)\n",
    "\n",
    "    return mergedDF"
   ]
  },
  {
   "cell_type": "code",
   "execution_count": 55,
   "metadata": {},
   "outputs": [],
   "source": [
    "def mergedCSV(month:str) -> None:\n",
    "    sales = pd.read_csv('./CSV Files/SALES_{}_23.csv'.format(month))\n",
    "    purchase = pd.read_csv('./CSV Files/PURCHASE_{}_23.csv'.format(month))\n",
    "    merged = mergeSalesAndPurchase(sales,purchase)\n",
    "    merged.to_csv('./Merged CSV Files/MERGED_{}_2023.csv'.format(month),index=False)\n",
    "    "
   ]
  },
  {
   "cell_type": "code",
   "execution_count": 56,
   "metadata": {},
   "outputs": [
    {
     "name": "stdout",
     "output_type": "stream",
     "text": [
      "Index(['Sl_Sales', 'Item', 'Quantity_Sales', 'Amount_Sales', 'Sl_Purchases',\n",
      "       'Quantity_Purchases', 'Amount_Purchases'],\n",
      "      dtype='object')\n",
      "Index(['Sl_Sales', 'Item', 'Quantity_Sales', 'Amount_Sales', 'Sl_Purchases',\n",
      "       'Quantity_Purchases', 'Amount_Purchases'],\n",
      "      dtype='object')\n"
     ]
    }
   ],
   "source": [
    "for month in ('APRIL','MAY'): mergedCSV(month)"
   ]
  }
 ],
 "metadata": {
  "kernelspec": {
   "display_name": ".venv",
   "language": "python",
   "name": "python3"
  },
  "language_info": {
   "codemirror_mode": {
    "name": "ipython",
    "version": 3
   },
   "file_extension": ".py",
   "mimetype": "text/x-python",
   "name": "python",
   "nbconvert_exporter": "python",
   "pygments_lexer": "ipython3",
   "version": "3.11.5"
  }
 },
 "nbformat": 4,
 "nbformat_minor": 2
}
